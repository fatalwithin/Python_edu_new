{
 "metadata": {
  "language_info": {
   "codemirror_mode": {
    "name": "ipython",
    "version": 3
   },
   "file_extension": ".py",
   "mimetype": "text/x-python",
   "name": "python",
   "nbconvert_exporter": "python",
   "pygments_lexer": "ipython3",
   "version": 3
  },
  "orig_nbformat": 2
 },
 "nbformat": 4,
 "nbformat_minor": 2,
 "cells": [
  {
   "source": [
    "**Higher order functions** - passing funcs as args to other funcs"
   ],
   "cell_type": "markdown",
   "metadata": {}
  },
  {
   "cell_type": "code",
   "execution_count": null,
   "metadata": {},
   "outputs": [],
   "source": [
    "def sum(n, func):\n",
    "    total = 0\n",
    "    for num in range(1,n+1):\n",
    "        total += func(num)\n",
    "    return total\n",
    "\n",
    "def square(x):\n",
    "    return x*x\n",
    "\n",
    "def cube(x):\n",
    "    return x*x*x\n",
    "\n",
    "print(sum(3, square))\n",
    "print(sum(3, cube))"
   ]
  },
  {
   "source": [
    "**Nesting** functions inside one another"
   ],
   "cell_type": "markdown",
   "metadata": {}
  },
  {
   "cell_type": "code",
   "execution_count": null,
   "metadata": {},
   "outputs": [],
   "source": [
    "from random import choice\n",
    "\n",
    "def greet(person):\n",
    "    def get_mood():\n",
    "        msg = choice(('Hello there ', 'Go away ', 'Love you '))\n",
    "        return msg\n",
    "    \n",
    "    result = get_mood() + person\n",
    "    return result\n",
    "\n",
    "def make_laugh_func():\n",
    "    def get_laugh():\n",
    "        l = choice(('HAHAHAHAH', 'Lol', 'tehehehe'))\n",
    "        return l\n",
    "    return get_laugh\n",
    "\n",
    "print(greet(\"Toby\"))\n",
    "\n",
    "laugh = make_laugh_func()\n",
    "print(laugh())"
   ]
  },
  {
   "cell_type": "code",
   "execution_count": null,
   "metadata": {},
   "outputs": [],
   "source": [
    "from random import choice\n",
    "\n",
    "def make_laugh_at_func(person):\n",
    "    def get_laugh():\n",
    "        l = choice(('HAHAHAHAH', 'Lol', 'tehehehe'))\n",
    "        return f\"{l} {person}\"\n",
    "\n",
    "    return get_laugh\n",
    "\n",
    "laugh = make_laugh_at_func(\"Someone\")\n",
    "print(laugh())"
   ]
  },
  {
   "source": [
    "# Intro to decorators\n",
    "\n",
    "- decorators are functions\n",
    "- decorators wrap other functions and enhance their behaviour\n",
    "- decorators are examples of higher order functions\n",
    "- decorators have their own syntax using '@' (syntactic sugar)"
   ],
   "cell_type": "markdown",
   "metadata": {}
  },
  {
   "cell_type": "code",
   "execution_count": null,
   "metadata": {},
   "outputs": [],
   "source": [
    "def be_polite(fn):\n",
    "    def wrapper():\n",
    "        print(\"What a pleasure to meet you!\")\n",
    "        fn()\n",
    "        print(\"Have a nice day!\")\n",
    "    return wrapper\n",
    "\n",
    "def greet():\n",
    "    print(\"My name is Colt\")\n",
    "\n",
    "def rage():\n",
    "    print(\"I HATE YOU!!!\")\n",
    "\n",
    "func = be_polite(greet)\n",
    "# function is decorated with politeness ;)\n",
    "func()\n",
    "\n",
    "polite_rage = be_polite(rage)\n",
    "polite_rage()\n",
    "\n",
    "# syntactic sugar\n",
    "\n",
    "@be_polite\n",
    "def dec_greet():\n",
    "    print(\"My name is Mark.\")\n",
    "\n",
    "# we don't need to set \n",
    "# greet = be_polite(greet)\n",
    "dec_greet()\n",
    "\n",
    "@be_polite\n",
    "def dec_rage():\n",
    "    print(\"I HATE YOU!\")\n",
    "\n",
    "dec_rage()\n"
   ]
  },
  {
   "source": [
    "Working with arguments in nested functions. \n",
    "\n",
    "When there are more than 1 arg or we do not know in advance exact number of args - we should use *args and **kwargs in func definition"
   ],
   "cell_type": "markdown",
   "metadata": {}
  },
  {
   "cell_type": "code",
   "execution_count": null,
   "metadata": {},
   "outputs": [],
   "source": [
    "def shout(fn):\n",
    "    def wrapper(name):\n",
    "        return fn(name).upper()\n",
    "    return wrapper\n",
    "\n",
    "@shout\n",
    "def greet(name):\n",
    "    return f\"Hi, I'm {name}\"\n",
    "\n",
    "@shout\n",
    "def order(main, side):\n",
    "    return f\"Hi, I'd like the {main}, with a side of {side}, please.\"\n",
    "\n",
    "print(greet(\"Todd\"))\n",
    "print(order(\"burger, fries\")) # here we will see a problem"
   ]
  },
  {
   "cell_type": "code",
   "execution_count": null,
   "metadata": {},
   "outputs": [],
   "source": [
    "# a standard decorator pattern\n",
    "def my_decorator(fn):\n",
    "    def wrapper(*args, **kwargs):\n",
    "        # do some stuff with fn function\n",
    "        pass\n",
    "    return wrapper"
   ]
  },
  {
   "cell_type": "code",
   "execution_count": null,
   "metadata": {},
   "outputs": [],
   "source": [
    "# here is how our decorator should work\n",
    "def shout(fn):\n",
    "    def wrapper(*args, **kwargs):\n",
    "        return fn(*args, **kwargs).upper()\n",
    "    return wrapper"
   ]
  },
  {
   "source": [
    "If we call another function with our \"add\" function as an argument - there could be problems as all function metadata will be related to wrapper and not to the function itself.  \n",
    "For example, `help(add)` will output as:  \n",
    "`This is a wrapper function`  \n",
    "\n",
    "To fix this, we should use a `wraps` module from `functools`"
   ],
   "cell_type": "markdown",
   "metadata": {}
  },
  {
   "cell_type": "code",
   "execution_count": null,
   "metadata": {},
   "outputs": [],
   "source": [
    "def log_function_data(fn):\n",
    "    def wrapper(*args, **kwargs):\n",
    "        \"\"\"This is a wrapper function\"\"\"\n",
    "        print(f\"you are about to call {fn.__name__}\") #func name\n",
    "        print(f\"Here's the documentation: {fn.__doc__}\") # docstring\n",
    "        return fn(*args, **kwargs)\n",
    "    return wrapper\n",
    "\n",
    "@log_function_data\n",
    "def add(x,y):\n",
    "    \"\"\"adds 2 numbers together and returns their sum\"\"\"\n",
    "    return x + y\n",
    "\n",
    "print(add(10,30))"
   ]
  },
  {
   "cell_type": "code",
   "execution_count": null,
   "metadata": {},
   "outputs": [],
   "source": [
    "from functools import wraps\n",
    "# wraps preserves a function's metadata when it's decorated\n",
    "\n",
    "def my_decorator(fn):\n",
    "    @wraps(fn)\n",
    "    def wrapper(*args, **kwargs):\n",
    "        # do some stuff with fn(*args, **kwargs)\n",
    "        pass\n",
    "    return wrapper"
   ]
  },
  {
   "source": [
    "A speed test decorator. \n"
   ],
   "cell_type": "markdown",
   "metadata": {}
  },
  {
   "cell_type": "code",
   "execution_count": null,
   "metadata": {},
   "outputs": [],
   "source": [
    "from time import time\n",
    "\n",
    "def speed_test(fn):\n",
    "    def wrapper(*args, **kwargs):\n",
    "        start_time = time()\n",
    "        result = fn(*args, **kwargs)\n",
    "        end_time = time()\n",
    "        print(f\"Time elapsed: {end_time - start_time} seconds\")\n",
    "        return result\n",
    "    return wrapper\n",
    "\n",
    "\n",
    "@speed_test\n",
    "def sum_nums_gen(): # with generator\n",
    "    return sum(x for x in range(10000000))\n",
    "\n",
    "def sum_nums_list(): # with list coprehension\n",
    "    return sum([x for x in range(10000000)])\n",
    "\n",
    "print(sum_nums_gen())\n",
    "print(sum_nums_list())"
   ]
  },
  {
   "source": [
    "# List comprehensions\n",
    "\n",
    "List comprehensions are one of the most powerful features in Python. We take a look at list comprehensions in detail, from the very basics up to more complex nested comprehensions. \n",
    "\n",
    "What does it do?\n",
    "- easy way to make new lists\n",
    "- cool short-hand syntax\n",
    "- tweaked versions of existing lists\n",
    "\n",
    "## Syntax\n",
    "\n",
    "`[ <first variable> for <second variable> in <another list> ]`\n"
   ],
   "cell_type": "markdown",
   "metadata": {}
  },
  {
   "cell_type": "code",
   "execution_count": null,
   "metadata": {},
   "outputs": [],
   "source": [
    "nums = [1, 2, 3]\n",
    "\n",
    "[x*10 for x in nums]\n",
    "\n",
    "\"\"\"\n",
    "List comprehension vs Looping\n",
    "\"\"\"\n",
    "\n",
    "\"\"\"Looping\"\"\"\n",
    "numbers = [1, 2, 3, 4, 5]\n",
    "doubled_numbers = []\n",
    "\n",
    "for num in numbers:\n",
    "    doubled_number = num * 2\n",
    "    doubled_numbers.append(doubled_number)\n",
    "\n",
    "print(doubled_numbers) # [2, 4, 6, 8, 10]\n",
    "\n",
    "\"\"\"List Comprehension\"\"\"\n",
    "numbers = [1, 2, 3, 4, 5]\n",
    "doubled_numbers = [num*2 for num in numbers]\n",
    "print(doubled_numbers) # [2, 4, 6, 8, 10]"
   ]
  },
  {
   "cell_type": "code",
   "execution_count": null,
   "metadata": {},
   "outputs": [],
   "source": [
    "\"\"\"\n",
    "Examples\n",
    "\"\"\"\n",
    "\n",
    "name = 'colt'\n",
    "[char.upper() for char in name] # ['C', 'O', 'L', 'T']\n",
    "\n",
    "friends = ['ashley', 'matt', 'michael']\n",
    "[friend[0].upper for friend in friends] # ['Ashley', 'Matt', 'Michael']\n",
    "\n",
    "[num*10 for num in range(1,6)] # [10, 20, 30, 40, 50]\n",
    "\n",
    "[bool(val) for val in [0, [], '']] # [False, False, False] - very useful in aligning results\n",
    "\n",
    "[str(num) + 'HELLO' for num in nums]"
   ]
  },
  {
   "source": [
    "# List comprehension with conditional logic"
   ],
   "cell_type": "markdown",
   "metadata": {}
  },
  {
   "cell_type": "code",
   "execution_count": null,
   "metadata": {},
   "outputs": [],
   "source": [
    "numbers = [1, 2, 3, 4, 5, 6]\n",
    "\n",
    "evens = [num for num in numbers if num % 2 == 0]\n",
    "\n",
    "odds = [num for num in numbers if num % 2 != 0]\n",
    "\n",
    "[num*2 if num%2 == 0 else num/2 for num in numbers]\n",
    "\n",
    "\"\"\"string modification\"\"\"\n",
    "with_vowels = \"This is so much fun!\"\n",
    "\n",
    "''.join(char for char in with_vowels if char not in \"aeiou\")"
   ]
  },
  {
   "source": [
    "# Nested lists\n",
    "\n",
    "Lists can contain any elements, even other lists.\n",
    "\n",
    "## Why?\n",
    "- complex data structures like matrices\n",
    "- game boards/mazes\n",
    "- rows and columns for visualization, tabulation and grouping data\n",
    "- geospatial data, coordinates\n",
    "\n",
    "\n"
   ],
   "cell_type": "markdown",
   "metadata": {}
  },
  {
   "cell_type": "code",
   "execution_count": null,
   "metadata": {},
   "outputs": [],
   "source": [
    "nested_list = [[1, 2, 3], [4, 5, 6], [7, 8, 9]]\n",
    "\n",
    "nested_list_2[0][1] # 2\n",
    "\n",
    "nested_list_3[1][-1] # 6\n",
    "\n",
    "coords = [[10.423, 9.132], [37.212, -14.092], [21.367, 32.572]]\n",
    "\n",
    "\"\"\"\n",
    "Nested list comprehension\n",
    "\"\"\"\n",
    "\n",
    "[[print(val) for val in l] for l in nested_list] # prints all values on new line each\n",
    "\n",
    "board = [[num for num in range(1,4)] for val in range(1, 4)] \n",
    "\n",
    "print(board) # [1,2,3], [1,2,3], [1,2,3]\n",
    "\n",
    "[[\"X\" if num % 2 != 0 else \"O\" for num in range(1,4) for val in range(1,4)]]\n",
    "\n",
    "# [['X', 'O', 'X'], ['X', 'O', 'X'], ['X', 'O', 'X']]\n"
   ]
  }
 ]
}